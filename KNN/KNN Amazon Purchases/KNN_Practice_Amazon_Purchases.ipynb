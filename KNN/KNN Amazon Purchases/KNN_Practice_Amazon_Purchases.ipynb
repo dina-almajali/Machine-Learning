{
  "nbformat": 4,
  "nbformat_minor": 0,
  "metadata": {
    "colab": {
      "provenance": [],
      "authorship_tag": "ABX9TyMnXzUykrZQl3Nt3Kdg3j/R",
      "include_colab_link": true
    },
    "kernelspec": {
      "name": "python3",
      "display_name": "Python 3"
    },
    "language_info": {
      "name": "python"
    }
  },
  "cells": [
    {
      "cell_type": "markdown",
      "metadata": {
        "id": "view-in-github",
        "colab_type": "text"
      },
      "source": [
        "<a href=\"https://colab.research.google.com/github/dina-almajali/Machine-Learning/blob/main/KNN/KNN%20Amazon%20Purchases/KNN_Practice_Amazon_Purchases.ipynb\" target=\"_parent\"><img src=\"https://colab.research.google.com/assets/colab-badge.svg\" alt=\"Open In Colab\"/></a>"
      ]
    },
    {
      "cell_type": "code",
      "execution_count": 17,
      "metadata": {
        "colab": {
          "base_uri": "https://localhost:8080/"
        },
        "id": "CcXi_jpp5e3I",
        "outputId": "60f049b3-66cb-4f84-fd01-52e6e197eeee"
      },
      "outputs": [
        {
          "output_type": "stream",
          "name": "stdout",
          "text": [
            "[1]\n"
          ]
        }
      ],
      "source": [
        "import numpy as np\n",
        "import pandas as pd\n",
        "from sklearn.neighbors import KNeighborsClassifier\n",
        "\n",
        "\n",
        "\n",
        "prediction = knn.predict(X_new)\n",
        "print(prediction)"
      ]
    },
    {
      "cell_type": "code",
      "source": [
        "#import dataset\n",
        "data_set = pd.read_csv('users.csv')\n"
      ],
      "metadata": {
        "id": "g99S6ROUG4dr"
      },
      "execution_count": null,
      "outputs": []
    },
    {
      "cell_type": "code",
      "source": [
        "print(data_set.head)\n"
      ],
      "metadata": {
        "colab": {
          "base_uri": "https://localhost:8080/"
        },
        "id": "9wjuH9YBG-48",
        "outputId": "13b50873-43e0-464c-ed5a-04cdd5a3caed"
      },
      "execution_count": 18,
      "outputs": [
        {
          "output_type": "stream",
          "name": "stdout",
          "text": [
            "<bound method NDFrame.head of      UserID  Gender  Age  Estimated Salary  Purchased\n",
            "0       1.0       1   50               148          1\n",
            "1       2.0       0   31                85          0\n",
            "2       3.0       1   32               183          1\n",
            "3       5.0       0   21                89          0\n",
            "4       5.0       1   33               137          1\n",
            "..      ...     ...  ...               ...        ...\n",
            "763    10.0       0   63               101          0\n",
            "764     2.0       0   27               122          0\n",
            "765     5.0       0   30               121          0\n",
            "766     1.0       1   47               126          1\n",
            "767     1.0       0   23                93          0\n",
            "\n",
            "[768 rows x 5 columns]>\n"
          ]
        }
      ]
    },
    {
      "cell_type": "code",
      "source": [
        "#Extracting Independent and dependent Variable  \n",
        "X = data_set.iloc[:, [2,3]].values\n",
        "y = data_set.iloc[:,4].values\n",
        "\n",
        "print(X.shape, y.shape)"
      ],
      "metadata": {
        "colab": {
          "base_uri": "https://localhost:8080/"
        },
        "id": "cNawJm8ZHD7O",
        "outputId": "e9516bd6-51a9-414e-d416-4934992be7d8"
      },
      "execution_count": 19,
      "outputs": [
        {
          "output_type": "stream",
          "name": "stdout",
          "text": [
            "(768, 2) (768,)\n"
          ]
        }
      ]
    },
    {
      "cell_type": "code",
      "source": [
        "knn = KNeighborsClassifier(n_neighbors = 3)\n",
        "knn.fit(X,y)"
      ],
      "metadata": {
        "id": "ChUjFGhtHKAB"
      },
      "execution_count": null,
      "outputs": []
    },
    {
      "cell_type": "code",
      "source": [
        "X_new = np.array([[55,200]])\n",
        "prediction = knn.predict(X_new)\n",
        "print(prediction)"
      ],
      "metadata": {
        "colab": {
          "base_uri": "https://localhost:8080/"
        },
        "id": "GIGtr0hCHMtz",
        "outputId": "c2984cd1-1924-42e6-e6e7-b44bc16397b8"
      },
      "execution_count": 21,
      "outputs": [
        {
          "output_type": "stream",
          "name": "stdout",
          "text": [
            "[1]\n"
          ]
        }
      ]
    },
    {
      "cell_type": "code",
      "source": [
        "# # The prediction is 1 which means the customer will purchase as 1 (Customer did Purchase) and 0 (Customer did not Purchase)"
      ],
      "metadata": {
        "id": "xytUG8VlHZOK"
      },
      "execution_count": null,
      "outputs": []
    }
  ]
}