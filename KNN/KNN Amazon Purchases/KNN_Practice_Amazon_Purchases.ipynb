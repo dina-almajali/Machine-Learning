{
  "nbformat": 4,
  "nbformat_minor": 0,
  "metadata": {
    "colab": {
      "provenance": [],
      "authorship_tag": "ABX9TyP2tXGI5kOlCHpwBIWHxJZ/",
      "include_colab_link": true
    },
    "kernelspec": {
      "name": "python3",
      "display_name": "Python 3"
    },
    "language_info": {
      "name": "python"
    }
  },
  "cells": [
    {
      "cell_type": "markdown",
      "metadata": {
        "id": "view-in-github",
        "colab_type": "text"
      },
      "source": [
        "<a href=\"https://colab.research.google.com/github/dina-almajali/Machine-Learning/blob/main/KNN/KNN%20Amazon%20Purchases/KNN_Practice_Amazon_Purchases.ipynb\" target=\"_parent\"><img src=\"https://colab.research.google.com/assets/colab-badge.svg\" alt=\"Open In Colab\"/></a>"
      ]
    },
    {
      "cell_type": "markdown",
      "source": [
        "# - Predicting if the customer will purchase based on his Age and Estimated Salary"
      ],
      "metadata": {
        "id": "5dFeS-CsJagD"
      }
    },
    {
      "cell_type": "code",
      "execution_count": null,
      "metadata": {
        "id": "CcXi_jpp5e3I"
      },
      "outputs": [],
      "source": [
        "import numpy as np\n",
        "import pandas as pd\n",
        "from sklearn.neighbors import KNeighborsClassifier\n",
        "from sklearn.model_selection import train_test_split"
      ]
    },
    {
      "cell_type": "code",
      "source": [
        "#import dataset\n",
        "data_set = pd.read_csv('users.csv')\n"
      ],
      "metadata": {
        "id": "g99S6ROUG4dr"
      },
      "execution_count": null,
      "outputs": []
    },
    {
      "cell_type": "code",
      "source": [
        "print(data_set.head)\n"
      ],
      "metadata": {
        "colab": {
          "base_uri": "https://localhost:8080/"
        },
        "id": "9wjuH9YBG-48",
        "outputId": "13b50873-43e0-464c-ed5a-04cdd5a3caed"
      },
      "execution_count": null,
      "outputs": [
        {
          "output_type": "stream",
          "name": "stdout",
          "text": [
            "<bound method NDFrame.head of      UserID  Gender  Age  Estimated Salary  Purchased\n",
            "0       1.0       1   50               148          1\n",
            "1       2.0       0   31                85          0\n",
            "2       3.0       1   32               183          1\n",
            "3       5.0       0   21                89          0\n",
            "4       5.0       1   33               137          1\n",
            "..      ...     ...  ...               ...        ...\n",
            "763    10.0       0   63               101          0\n",
            "764     2.0       0   27               122          0\n",
            "765     5.0       0   30               121          0\n",
            "766     1.0       1   47               126          1\n",
            "767     1.0       0   23                93          0\n",
            "\n",
            "[768 rows x 5 columns]>\n"
          ]
        }
      ]
    },
    {
      "cell_type": "code",
      "source": [
        "#Extracting Independent and dependent Variable  \n",
        "X = data_set.iloc[:, [2,3]].values\n",
        "y = data_set.iloc[:,4].values\n",
        "\n",
        "print(X.shape, y.shape)"
      ],
      "metadata": {
        "colab": {
          "base_uri": "https://localhost:8080/"
        },
        "id": "cNawJm8ZHD7O",
        "outputId": "e9516bd6-51a9-414e-d416-4934992be7d8"
      },
      "execution_count": null,
      "outputs": [
        {
          "output_type": "stream",
          "name": "stdout",
          "text": [
            "(768, 2) (768,)\n"
          ]
        }
      ]
    },
    {
      "cell_type": "code",
      "source": [
        "knn = KNeighborsClassifier(n_neighbors = 3)\n",
        "knn.fit(X,y)"
      ],
      "metadata": {
        "id": "ChUjFGhtHKAB"
      },
      "execution_count": null,
      "outputs": []
    },
    {
      "cell_type": "code",
      "source": [
        "X_new = np.array([[55,200]])\n",
        "prediction = knn.predict(X_new)\n",
        "print(prediction)"
      ],
      "metadata": {
        "colab": {
          "base_uri": "https://localhost:8080/"
        },
        "id": "GIGtr0hCHMtz",
        "outputId": "c2984cd1-1924-42e6-e6e7-b44bc16397b8"
      },
      "execution_count": null,
      "outputs": [
        {
          "output_type": "stream",
          "name": "stdout",
          "text": [
            "[1]\n"
          ]
        }
      ]
    },
    {
      "cell_type": "code",
      "source": [
        "# # The prediction is 1 which means the customer will purchase as 1 (Customer did Purchase) and 0 (Customer did not Purchase)"
      ],
      "metadata": {
        "id": "xytUG8VlHZOK"
      },
      "execution_count": null,
      "outputs": []
    },
    {
      "cell_type": "markdown",
      "source": [
        "Calculating Accuracy\n"
      ],
      "metadata": {
        "id": "OBvE16kEJVBe"
      }
    },
    {
      "cell_type": "code",
      "source": [
        "X_train, X_test, y_train, y_test = train_test_split(X,y, test_size= 0.25, random_state=1)"
      ],
      "metadata": {
        "id": "X-9TQc3bJt8z"
      },
      "execution_count": null,
      "outputs": []
    },
    {
      "cell_type": "code",
      "source": [
        "print(knn.score(X_test, y_test))"
      ],
      "metadata": {
        "colab": {
          "base_uri": "https://localhost:8080/"
        },
        "id": "2LxfCXm6Jt1p",
        "outputId": "30c64f93-5f63-4af1-ca19-3c8ed4d2fd75"
      },
      "execution_count": null,
      "outputs": [
        {
          "output_type": "stream",
          "name": "stdout",
          "text": [
            "0.84375\n"
          ]
        }
      ]
    }
  ]
}