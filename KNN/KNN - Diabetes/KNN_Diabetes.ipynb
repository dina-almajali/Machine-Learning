{
  "nbformat": 4,
  "nbformat_minor": 0,
  "metadata": {
    "colab": {
      "provenance": [],
      "authorship_tag": "ABX9TyO/WtQ+PLNGCPktGN7Ii1Cd",
      "include_colab_link": true
    },
    "kernelspec": {
      "name": "python3",
      "display_name": "Python 3"
    },
    "language_info": {
      "name": "python"
    }
  },
  "cells": [
    {
      "cell_type": "markdown",
      "metadata": {
        "id": "view-in-github",
        "colab_type": "text"
      },
      "source": [
        "<a href=\"https://colab.research.google.com/github/dina-almajali/Machine-Learning/blob/main/KNN/KNN%20-%20Diabetes/KNN_Diabetes.ipynb\" target=\"_parent\"><img src=\"https://colab.research.google.com/assets/colab-badge.svg\" alt=\"Open In Colab\"/></a>"
      ]
    },
    {
      "cell_type": "markdown",
      "source": [
        "- Predicting if the patient has diabetes based on his DiabetesPedigreeFunction and Age\n"
      ],
      "metadata": {
        "id": "a_FUsN8oOAQd"
      }
    },
    {
      "cell_type": "code",
      "source": [
        "import numpy as np\n",
        "import pandas as pd\n",
        "import matplotlib.pyplot as plt\n",
        "from sklearn.neighbors import KNeighborsClassifier\n",
        "from sklearn.model_selection import train_test_split"
      ],
      "metadata": {
        "id": "mduM2dttOKKx"
      },
      "execution_count": null,
      "outputs": []
    },
    {
      "cell_type": "code",
      "source": [
        "data_set = pd.read_csv('diabetes.csv')"
      ],
      "metadata": {
        "id": "qGhVXRNIOfij"
      },
      "execution_count": null,
      "outputs": []
    },
    {
      "cell_type": "code",
      "source": [
        "data_set.head"
      ],
      "metadata": {
        "colab": {
          "base_uri": "https://localhost:8080/"
        },
        "id": "6LqwEtYgOmYZ",
        "outputId": "56f28326-e85f-429f-b4d5-a82bcb68d320"
      },
      "execution_count": null,
      "outputs": [
        {
          "output_type": "execute_result",
          "data": {
            "text/plain": [
              "<bound method NDFrame.head of      UserID  Glucose  BloodPressure  SkinThickness  Insulin   BMI  \\\n",
              "0         6      148             72             35        0  33.6   \n",
              "1         1       85             66             29        0  26.6   \n",
              "2         8      183             64              0        0  23.3   \n",
              "3         1       89             66             23       94  28.1   \n",
              "4         0      137             40             35      168  43.1   \n",
              "..      ...      ...            ...            ...      ...   ...   \n",
              "763      10      101             76             48      180  32.9   \n",
              "764       2      122             70             27        0  36.8   \n",
              "765       5      121             72             23      112  26.2   \n",
              "766       1      126             60              0        0  30.1   \n",
              "767       1       93             70             31        0  30.4   \n",
              "\n",
              "     DiabetesPedigreeFunction  Age  Outcome  \n",
              "0                       0.627   50        1  \n",
              "1                       0.351   31        0  \n",
              "2                       0.672   32        1  \n",
              "3                       0.167   21        0  \n",
              "4                       2.288   33        1  \n",
              "..                        ...  ...      ...  \n",
              "763                     0.171   63        0  \n",
              "764                     0.340   27        0  \n",
              "765                     0.245   30        0  \n",
              "766                     0.349   47        1  \n",
              "767                     0.315   23        0  \n",
              "\n",
              "[768 rows x 9 columns]>"
            ]
          },
          "metadata": {},
          "execution_count": 3
        }
      ]
    },
    {
      "cell_type": "code",
      "source": [
        "X= data_set.iloc[:,[6,7]].values\n",
        "y= data_set.iloc[:,8].values"
      ],
      "metadata": {
        "id": "N5FWCga3Otel"
      },
      "execution_count": null,
      "outputs": []
    },
    {
      "cell_type": "code",
      "source": [
        "print(X.shape,y.shape)"
      ],
      "metadata": {
        "colab": {
          "base_uri": "https://localhost:8080/"
        },
        "id": "D4nXVHUhPE6a",
        "outputId": "830a137d-142f-4631-9b39-2091545c4db7"
      },
      "execution_count": null,
      "outputs": [
        {
          "output_type": "stream",
          "name": "stdout",
          "text": [
            "(768, 2) (768,)\n"
          ]
        }
      ]
    },
    {
      "cell_type": "code",
      "source": [
        "knn = KNeighborsClassifier(n_neighbors=5, metric='minkowski', p=2)\n",
        "knn.fit(X,y)\n",
        "\n",
        "X_new= np.array([[20,14]])\n",
        "prediction = knn.predict(X_new)\n",
        "print(prediction)"
      ],
      "metadata": {
        "colab": {
          "base_uri": "https://localhost:8080/"
        },
        "id": "P1TB5H60PRVA",
        "outputId": "33914c85-e8ed-4cc7-b7f5-a0d04c39ee89"
      },
      "execution_count": null,
      "outputs": [
        {
          "output_type": "stream",
          "name": "stdout",
          "text": [
            "[0]\n"
          ]
        }
      ]
    },
    {
      "cell_type": "code",
      "source": [
        "# The prediction is 0 (when the sample DiabetesPedigreeFunction is 20 and Age is 14) which means the patient doesnt have diabetes as 1 (Patient has diabetes) and 0 (Patient doesnt have diabetes)\n"
      ],
      "metadata": {
        "id": "b5W8bEtGROUa"
      },
      "execution_count": null,
      "outputs": []
    },
    {
      "cell_type": "markdown",
      "source": [
        "Calculating Accuracy\n",
        "\n"
      ],
      "metadata": {
        "id": "1fNU3H4sRnQv"
      }
    },
    {
      "cell_type": "code",
      "source": [
        "X_train, X_test, y_train, y_test = train_test_split(X,y, random_state=21)"
      ],
      "metadata": {
        "id": "kFXtTJX_RoPR"
      },
      "execution_count": null,
      "outputs": []
    },
    {
      "cell_type": "code",
      "source": [
        "print(knn.score(X_test,y_test))"
      ],
      "metadata": {
        "colab": {
          "base_uri": "https://localhost:8080/"
        },
        "id": "-czxrFLwShGN",
        "outputId": "011ab63b-f629-4f2e-b8ed-46cf0554d3d4"
      },
      "execution_count": null,
      "outputs": [
        {
          "output_type": "stream",
          "name": "stdout",
          "text": [
            "0.7708333333333334\n"
          ]
        }
      ]
    },
    {
      "cell_type": "markdown",
      "source": [
        "Measuring Model Complexity"
      ],
      "metadata": {
        "id": "aPd8t22JS0kP"
      }
    },
    {
      "cell_type": "code",
      "source": [
        "train_accuracies={}\n",
        "test_accuracies={}\n",
        "\n",
        "neighbors = np.arange(1,26)\n",
        "\n",
        "for neighbors in neighbors:\n",
        "  X_train, X_test, y_train, y_test = train_test_split(X,y, random_state=21)\n",
        "  knn.fit(X_train, y_train)\n",
        "  train_accuracies[neighbors]= knn.score(X_train,y_train)\n",
        "  test_accuracies[neighbors] = knn.score(X_test,y_test)"
      ],
      "metadata": {
        "id": "at9LUO8-S3x6"
      },
      "execution_count": null,
      "outputs": []
    },
    {
      "cell_type": "code",
      "source": [
        "print(train_accuracies)\n",
        "print(test_accuracies)"
      ],
      "metadata": {
        "colab": {
          "base_uri": "https://localhost:8080/"
        },
        "id": "Tu62esLPUkJs",
        "outputId": "71d55c84-00a7-45d6-91e5-0a73153eadc6"
      },
      "execution_count": null,
      "outputs": [
        {
          "output_type": "stream",
          "name": "stdout",
          "text": [
            "{1: 0.7569444444444444, 2: 0.7569444444444444, 3: 0.7569444444444444, 4: 0.7569444444444444, 5: 0.7569444444444444, 6: 0.7569444444444444, 7: 0.7569444444444444, 8: 0.7569444444444444, 9: 0.7569444444444444, 10: 0.7569444444444444, 11: 0.7569444444444444, 12: 0.7569444444444444, 13: 0.7569444444444444, 14: 0.7569444444444444, 15: 0.7569444444444444, 16: 0.7569444444444444, 17: 0.7569444444444444, 18: 0.7569444444444444, 19: 0.7569444444444444, 20: 0.7569444444444444, 21: 0.7569444444444444, 22: 0.7569444444444444, 23: 0.7569444444444444, 24: 0.7569444444444444, 25: 0.7569444444444444}\n",
            "{1: 0.6927083333333334, 2: 0.6927083333333334, 3: 0.6927083333333334, 4: 0.6927083333333334, 5: 0.6927083333333334, 6: 0.6927083333333334, 7: 0.6927083333333334, 8: 0.6927083333333334, 9: 0.6927083333333334, 10: 0.6927083333333334, 11: 0.6927083333333334, 12: 0.6927083333333334, 13: 0.6927083333333334, 14: 0.6927083333333334, 15: 0.6927083333333334, 16: 0.6927083333333334, 17: 0.6927083333333334, 18: 0.6927083333333334, 19: 0.6927083333333334, 20: 0.6927083333333334, 21: 0.6927083333333334, 22: 0.6927083333333334, 23: 0.6927083333333334, 24: 0.6927083333333334, 25: 0.6927083333333334}\n"
          ]
        }
      ]
    }
  ]
}